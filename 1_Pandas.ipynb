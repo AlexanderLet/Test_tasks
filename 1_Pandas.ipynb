{
  "nbformat": 4,
  "nbformat_minor": 0,
  "metadata": {
    "colab": {
      "provenance": [],
      "authorship_tag": "ABX9TyPZyDg1NVIL6kEd7V9ApYj7",
      "include_colab_link": true
    },
    "kernelspec": {
      "name": "python3",
      "display_name": "Python 3"
    },
    "language_info": {
      "name": "python"
    }
  },
  "cells": [
    {
      "cell_type": "markdown",
      "metadata": {
        "id": "view-in-github",
        "colab_type": "text"
      },
      "source": [
        "<a href=\"https://colab.research.google.com/github/AlexanderLet/Test_tasks/blob/main/1_Pandas.ipynb\" target=\"_parent\"><img src=\"https://colab.research.google.com/assets/colab-badge.svg\" alt=\"Open In Colab\"/></a>"
      ]
    },
    {
      "cell_type": "code",
      "execution_count": 8,
      "metadata": {
        "colab": {
          "base_uri": "https://localhost:8080/"
        },
        "id": "vOKTlQrcTIAd",
        "outputId": "3503192e-a777-44a6-a649-6c9d4f1443ae"
      },
      "outputs": [
        {
          "output_type": "stream",
          "name": "stdout",
          "text": [
            "\n",
            "   name  age  gender\n",
            "0  John   25    Male\n",
            "1  Jane   30  Female\n",
            "2  Alex   17    Male\n",
            "\n",
            "Общее количество записей: 5\n",
            "\n",
            "Строки с возрастом больше 17:\n",
            "    name  age  gender\n",
            "0   John   25    Male\n",
            "1   Jane   30  Female\n",
            "3  Emily   20  Female\n",
            "4   Mark   22    Male\n",
            "\n",
            "Средний возраст по группам:\n",
            "   gender        age\n",
            "0  Female  25.000000\n",
            "1    Male  21.333333\n"
          ]
        }
      ],
      "source": [
        "import pandas as pd\n",
        "\n",
        "# Чтение данных из файла в DataFrame\n",
        "df = pd.read_csv(\"Data.csv\")\n",
        "\n",
        "# Вывод первых 3 строк DataFrame\n",
        "print()\n",
        "print(df.head(3))\n",
        "\n",
        "# Подсчет общего количества записей в DataFrame\n",
        "total_records = len(df)\n",
        "print()\n",
        "print(\"Общее количество записей:\", total_records)\n",
        "\n",
        "# Вывод всех строк, где значение в столбце \"age\" больше 17\n",
        "df_filtered = df[df[\"age\"] > 17]\n",
        "print()\n",
        "print(\"Строки с возрастом больше 17:\")\n",
        "print(df_filtered)\n",
        "\n",
        "# Группировка данных по столбцу \"gender\" и вычисление среднего возраста для каждой группы\n",
        "average_age_by_gender = df.groupby(\"gender\")[\"age\"].mean()\n",
        "print()\n",
        "print(\"Средний возраст по группам:\")\n",
        "print(average_age_by_gender.reset_index())"
      ]
    }
  ]
}