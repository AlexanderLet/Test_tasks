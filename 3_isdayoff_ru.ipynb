{
  "nbformat": 4,
  "nbformat_minor": 0,
  "metadata": {
    "colab": {
      "provenance": [],
      "authorship_tag": "ABX9TyOnvH/+FrB6A60alB6/DHnY",
      "include_colab_link": true
    },
    "kernelspec": {
      "name": "python3",
      "display_name": "Python 3"
    },
    "language_info": {
      "name": "python"
    }
  },
  "cells": [
    {
      "cell_type": "markdown",
      "metadata": {
        "id": "view-in-github",
        "colab_type": "text"
      },
      "source": [
        "<a href=\"https://colab.research.google.com/github/AlexanderLet/Test_tasks/blob/main/3_isdayoff_ru.ipynb\" target=\"_parent\"><img src=\"https://colab.research.google.com/assets/colab-badge.svg\" alt=\"Open In Colab\"/></a>"
      ]
    },
    {
      "cell_type": "code",
      "execution_count": 30,
      "metadata": {
        "colab": {
          "base_uri": "https://localhost:8080/"
        },
        "id": "SlGxkJd-B83H",
        "outputId": "9172e042-f9e2-49a1-b38a-2be405cc0dc1"
      },
      "outputs": [
        {
          "output_type": "stream",
          "name": "stdout",
          "text": [
            "Requirement already satisfied: requests in /usr/local/lib/python3.10/dist-packages (2.27.1)\n",
            "Requirement already satisfied: urllib3<1.27,>=1.21.1 in /usr/local/lib/python3.10/dist-packages (from requests) (1.26.16)\n",
            "Requirement already satisfied: certifi>=2017.4.17 in /usr/local/lib/python3.10/dist-packages (from requests) (2023.5.7)\n",
            "Requirement already satisfied: charset-normalizer~=2.0.0 in /usr/local/lib/python3.10/dist-packages (from requests) (2.0.12)\n",
            "Requirement already satisfied: idna<4,>=2.5 in /usr/local/lib/python3.10/dist-packages (from requests) (3.4)\n",
            "Введите дату (в формате YYYY-MM-DD): 2023-070-05\n",
            "Неверный формат даты. Пожалуйста, используйте формат YYYY-MM-DD.\n"
          ]
        }
      ],
      "source": [
        "!pip install requests\n",
        "import requests\n",
        "\n",
        "#Объявление функции\n",
        "def isdayoff(date):\n",
        "  url = f'https://isdayoff.ru/{date}'\n",
        "  response = requests.get(url)\n",
        "  if response.status_code == 200:\n",
        "      data = response.json()\n",
        "\n",
        "  if data == 0:\n",
        "    print(f'Дата {date} является рабочим днём.')\n",
        "  elif data == 1:\n",
        "    print(f'Дата {date} является выходным днем.')\n",
        "\n",
        "#Ввод даты\n",
        "date = input('Введите дату (в формате YYYY-MM-DD): ')\n",
        "\n",
        "#Проверка даты на валидность + запуск функции\n",
        "if len(date) != 10:\n",
        "  print('Неверный формат даты. Пожалуйста, используйте формат YYYY-MM-DD.')\n",
        "else:\n",
        "  isdayoff(date)\n",
        "\n",
        "\n",
        "\n",
        "\n",
        "\n"
      ]
    }
  ]
}